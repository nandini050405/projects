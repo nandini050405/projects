{
 "cells": [
  {
   "cell_type": "markdown",
   "id": "717ccfe1",
   "metadata": {},
   "source": [
    "ATM BANK ACCOUNT PROJECT"
   ]
  },
  {
   "cell_type": "code",
   "execution_count": 1,
   "id": "e6e82808",
   "metadata": {},
   "outputs": [
    {
     "name": "stdout",
     "output_type": "stream",
     "text": [
      "Deposited ₹500. New balance is ₹500\n",
      "Withdrew ₹150. Remaining balance is ₹350\n",
      "Name: Nandini\n",
      "Age: 20\n",
      "Phone Number: 987654321\n",
      "Address: Jaipur\n",
      "Account Number: 123456789\n",
      "Balance: ₹ 350\n"
     ]
    }
   ],
   "source": [
    "class Bank:\n",
    "    def __init__(self, name, age, account_number, phone_number, address):\n",
    "        self.name = name\n",
    "        self.age = age\n",
    "        self.__account_number = account_number \n",
    "        self.phone_number = phone_number\n",
    "        self.address = address\n",
    "        self.balance = 0  \n",
    "    def deposit(self, amount):\n",
    "        self.balance +=amount\n",
    "        print(f\"Deposited ₹{amount}. New balance is ₹{self.balance}\")\n",
    "\n",
    "    def withdraw(self, amount):\n",
    "        self.balance -= amount\n",
    "        print(f\"Withdrew ₹{amount}. Remaining balance is ₹{self.balance}\")\n",
    "\n",
    "    def show_info(self):\n",
    "        print(\"Name:\", self.name)\n",
    "        print(\"Age:\", self.age)\n",
    "        print(\"Phone Number:\", self.phone_number)\n",
    "        print(\"Address:\", self.address)\n",
    "        print(\"Account Number:\", self.__account_number)\n",
    "        print(\"Balance: ₹\", self.balance)\n",
    "\n",
    "    def get_account_number(self): \n",
    "        return self.__account_number\n",
    "\n",
    "\n",
    "\n",
    "obj = Bank(\"Nandini\", 20, \"123456789\", \"987654321\", \"Jaipur\")\n",
    "\n",
    "# obj.deposit(500)   #####>>>This is use to input before running the code (writen inside code)\n",
    "# obj.withdraw(150)\n",
    "\n",
    "obj.deposit(int(input(\"Enter deposite amount:\"))) #####>>>>this is use to input by the user after running the code\n",
    "obj.withdraw(int(input(\"Enter withdraw amount:\")))\n",
    "\n",
    "\n",
    "obj.show_info()\n"
   ]
  },
  {
   "cell_type": "code",
   "execution_count": null,
   "id": "98045d43",
   "metadata": {},
   "outputs": [],
   "source": []
  }
 ],
 "metadata": {
  "kernelspec": {
   "display_name": "Python 3",
   "language": "python",
   "name": "python3"
  },
  "language_info": {
   "codemirror_mode": {
    "name": "ipython",
    "version": 3
   },
   "file_extension": ".py",
   "mimetype": "text/x-python",
   "name": "python",
   "nbconvert_exporter": "python",
   "pygments_lexer": "ipython3",
   "version": "3.11.5"
  }
 },
 "nbformat": 4,
 "nbformat_minor": 5
}
